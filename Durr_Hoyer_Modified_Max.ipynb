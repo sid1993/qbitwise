{
 "metadata": {
  "language_info": {
   "codemirror_mode": {
    "name": "ipython",
    "version": 3
   },
   "file_extension": ".py",
   "mimetype": "text/x-python",
   "name": "python",
   "nbconvert_exporter": "python",
   "pygments_lexer": "ipython3",
   "version": "3.7.3-final"
  },
  "orig_nbformat": 2,
  "kernelspec": {
   "name": "python3",
   "display_name": "Python 3.7.3 64-bit (conda)",
   "metadata": {
    "interpreter": {
     "hash": "dd7e55b465c6c33209f037b724f943fdc31896ff3ffdc2e2580465031c169ec6"
    }
   }
  }
 },
 "nbformat": 4,
 "nbformat_minor": 2,
 "cells": [
  {
   "source": [
    "# Durr Hoyer's Algorithm Modified to find Maximum Element"
   ],
   "cell_type": "markdown",
   "metadata": {}
  },
  {
   "cell_type": "code",
   "execution_count": 11,
   "metadata": {},
   "outputs": [],
   "source": [
    "import random\n",
    "import math\n"
   ]
  },
  {
   "cell_type": "code",
   "execution_count": 12,
   "metadata": {},
   "outputs": [],
   "source": [
    "def superposition(qubits):\n",
    "    states = []\n",
    "    #Hadamard Transformation\n",
    "    total_states = int(math.pow(2,qubits))\n",
    "    amplitude = 1/math.sqrt(total_states)\n",
    "    for _ in range(0,total_states):\n",
    "        states.append(amplitude)\n",
    "    return states"
   ]
  },
  {
   "cell_type": "code",
   "execution_count": 13,
   "metadata": {},
   "outputs": [],
   "source": [
    "def markingOracle(states,datalist,y):\n",
    "    # marks all states/elements greater than datalist[y]\n",
    "    for index in range(len(datalist)):\n",
    "        if datalist[index] > datalist[y]:\n",
    "            states[index] *= -1 #phase inversion\n",
    "    return states"
   ]
  },
  {
   "cell_type": "code",
   "execution_count": 14,
   "metadata": {},
   "outputs": [],
   "source": [
    "def grover_diffusion(states):\n",
    "    average = sum(states)/len(states)\n",
    "    for i in range(0,len(states)):\n",
    "        states[i] = (average-states[i]) + average\n",
    "    return states"
   ]
  },
  {
   "cell_type": "code",
   "execution_count": 15,
   "metadata": {},
   "outputs": [],
   "source": [
    "def oracle(states,datalist,key):\n",
    "\n",
    "    for i in range(0,int(len(datalist))):\n",
    "        if datalist[i] > key:\n",
    "            states[i] *= -1 #phase inversion\n",
    "    return states"
   ]
  },
  {
   "cell_type": "code",
   "execution_count": 16,
   "metadata": {},
   "outputs": [],
   "source": [
    "def grover_iteration(states,j,y):\n",
    "    num_iterations = j\n",
    "    for _ in range(0,num_iterations):\n",
    "        states = oracle(states,datalist,y)\n",
    "        states = grover_diffusion(states)\n",
    "    probability_states = [states[i]*states[i] for i in range(0,len(states))]\n",
    "    #print(probability_states)\n",
    "    max_value = max(probability_states)\n",
    "    index_with_max_val = []\n",
    "    for i in range(len(probability_states)):\n",
    "        if probability_states[i] == max_value:\n",
    "            index_with_max_val.append(i)\n",
    "    index_random_state_with_max_val = index_with_max_val[random.randint(0,len(index_with_max_val)-1)]\n",
    "    return index_random_state_with_max_val\n"
   ]
  },
  {
   "cell_type": "code",
   "execution_count": 17,
   "metadata": {},
   "outputs": [],
   "source": [
    "def exponential_search(states,datalist,y):\n",
    "    m =1\n",
    "    alpha = 6/5 #(Any value of λ strictly between 1 and 4/3 would do.)\n",
    "    while True:\n",
    "        j = random.randint(0,int(m)-1) # number of iterations of Grover\n",
    "        i = grover_iteration(states,j,y)\n",
    "        #print(datalist[i],\" \",datalist[y])\n",
    "        if datalist[i] < datalist[y]:\n",
    "            m = min(alpha*m,math.sqrt(len(datalist)))\n",
    "        else:\n",
    "            break\n",
    "    return i"
   ]
  },
  {
   "cell_type": "code",
   "execution_count": 18,
   "metadata": {},
   "outputs": [],
   "source": [
    "def findMax(datalist):\n",
    "    \n",
    "    size_datalist = len(datalist)\n",
    "    qubits_needed = math.ceil(math.log(size_datalist,2))\n",
    "    paddings_required = int(math.pow(2,qubits_needed) - size_datalist)\n",
    "    for _ in range(0,paddings_required):\n",
    "         datalist.append(0)\n",
    "    \n",
    "    y = random.randint(0,len(datalist)-1)\n",
    "    print(\"Starting threshold : \",datalist[y])\n",
    "    print(\"Exponential search steps :\")\n",
    "    max_iteration = int(22.5 * math.sqrt(len(datalist)) + 1.4 * math.log2(len(datalist)))\n",
    "    for _ in range(0,max_iteration):\n",
    "        states = superposition(qubits_needed)\n",
    "        states = markingOracle(states,datalist,y) # marks all states/elements greater than datalist[y]\n",
    "        if marked(states):\n",
    "            new_y = exponential_search(states,datalist,y) # fina an element greater than datalist[y]\n",
    "            if datalist[new_y] > datalist[y]:\n",
    "                print(datalist[y],\" ---> \",datalist[new_y])\n",
    "                y = new_y\n",
    "        else:\n",
    "            break\n",
    "    return y\n",
    "\n"
   ]
  },
  {
   "cell_type": "code",
   "execution_count": 19,
   "metadata": {},
   "outputs": [],
   "source": [
    "def marked(states):\n",
    "    for s in states:\n",
    "        if s<0:\n",
    "            return True\n",
    "    return False"
   ]
  },
  {
   "source": [
    "datalist = random.sample(range(1, 10000000), 5000)\n",
    "#print(datalist)\n",
    "maxIndex = findMax(datalist)\n",
    "print(\"Actual max : \",max(datalist),\" Quantum Max : \",datalist[maxIndex])\n"
   ],
   "cell_type": "code",
   "metadata": {
    "tags": []
   },
   "execution_count": 20,
   "outputs": [
    {
     "output_type": "stream",
     "name": "stdout",
     "text": [
      "Starting threshold :  1054061\n",
      "Exponential search steps :\n",
      "1054061  --->  3565494\n",
      "3565494  --->  7746137\n",
      "7746137  --->  9639931\n",
      "9639931  --->  9813043\n",
      "9813043  --->  9909962\n",
      "9909962  --->  9940800\n",
      "9940800  --->  9988837\n",
      "9988837  --->  9999745\n",
      "Actual max :  9999745  Quantum Max :  9999745\n"
     ]
    }
   ]
  }
 ]
}